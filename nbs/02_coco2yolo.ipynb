{
 "cells": [
  {
   "cell_type": "code",
   "execution_count": null,
   "metadata": {},
   "outputs": [],
   "source": [
    "%load_ext autoreload\n",
    "%autoreload 2"
   ]
  },
  {
   "cell_type": "code",
   "execution_count": null,
   "metadata": {},
   "outputs": [],
   "source": [
    "# default_exp coco2yolo"
   ]
  },
  {
   "cell_type": "markdown",
   "metadata": {},
   "source": [
    "# coco2yolo\n",
    "> Convert coco json annotation to yolo txt annotation"
   ]
  },
  {
   "cell_type": "code",
   "execution_count": null,
   "metadata": {},
   "outputs": [],
   "source": [
    "#hide\n",
    "from nbdev.showdoc import *"
   ]
  },
  {
   "cell_type": "code",
   "execution_count": null,
   "metadata": {},
   "outputs": [],
   "source": [
    "#export\n",
    "import json\n",
    "from typing import List\n",
    "\n",
    "from tqdm import tqdm"
   ]
  },
  {
   "cell_type": "code",
   "execution_count": null,
   "metadata": {},
   "outputs": [],
   "source": [
    "#export\n",
    "def convert_coordinate(size: tuple, box: List) -> tuple:\n",
    "    \"\"\"Convert coordinate from xywh to\n",
    "        x_center, y_center, width, height\n",
    "\n",
    "    Arguments: \\n\n",
    "    `size` (tuple): size of image \\n\n",
    "    `box` (List): box coordinate \\n\n",
    "\n",
    "    Returns:\\n\n",
    "    `tuple`: new yolo coordinate\n",
    "    \"\"\"\n",
    "    dw = 1.0 / size[0]\n",
    "    dh = 1.0 / size[1]\n",
    "    w = box[2]\n",
    "    h = box[3]\n",
    "    x = box[0] + box[2] / 2.0\n",
    "    y = box[1] + box[3] / 2.0\n",
    "    x = round(x * dw, 6)\n",
    "    w = round(w * dw, 6)\n",
    "    y = round(y * dh, 6)\n",
    "    h = round(h * dh, 6)\n",
    "    return (x, y, w, h)"
   ]
  },
  {
   "cell_type": "code",
   "execution_count": null,
   "metadata": {},
   "outputs": [
    {
     "data": {
      "text/markdown": [
       "<h4 id=\"convert_coordinate\" class=\"doc_header\"><code>convert_coordinate</code><a href=\"__main__.py#L2\" class=\"source_link\" style=\"float:right\">[source]</a></h4>\n",
       "\n",
       "> <code>convert_coordinate</code>(**`size`**:`tuple`, **`box`**:`List`\\[`T`\\])\n",
       "\n",
       "Convert coordinate from xywh to\n",
       "    x_center, y_center, width, height\n",
       "\n",
       "Arguments: \n",
       "\n",
       "`size` (tuple): size of image \n",
       "\n",
       "`box` (List): box coordinate \n",
       "\n",
       "\n",
       "Returns:\n",
       "\n",
       "`tuple`: new yolo coordinate"
      ],
      "text/plain": [
       "<IPython.core.display.Markdown object>"
      ]
     },
     "metadata": {},
     "output_type": "display_data"
    }
   ],
   "source": [
    "show_doc(convert_coordinate)"
   ]
  },
  {
   "cell_type": "code",
   "execution_count": null,
   "metadata": {},
   "outputs": [],
   "source": [
    "#export\n",
    "def convert(json_path: str = None, save_path: str = None, classes: List[str] = None):\n",
    "    \"\"\"Function to convert Coco json to yolo txt format\n",
    "\n",
    "    Arguments: \\n\n",
    "    `json_path` (str, optional): Path to the coco json file. Defaults to None. \\n\n",
    "    `save_path` (str, optional): The folder which save txt file. Defaults to None. \\n\n",
    "    `classes` (List[str], optional): List name of classes. Defaults to None. \\n\n",
    "    \"\"\"\n",
    "    with open(json_path, \"r\") as f:\n",
    "        data = json.load(f)\n",
    "    for idx in tqdm(range(len(data[\"images\"]))):\n",
    "        item = data[\"images\"][idx]\n",
    "        image_id = item[\"id\"]\n",
    "        file_name = item[\"file_name\"]\n",
    "        width = item[\"width\"]\n",
    "        height = item[\"height\"]\n",
    "        value = filter(lambda item1: item1[\"image_id\"] == image_id, data[\"annotations\"])\n",
    "        outfile = open(save_path + \"/%s.txt\" % (file_name[:-4]), \"a+\")\n",
    "        for item2 in value:\n",
    "            category_id = item2[\"category_id\"]\n",
    "            value1 = list(\n",
    "                filter(lambda item3: item3[\"id\"] == category_id, data[\"categories\"])\n",
    "            )\n",
    "            name = value1[0][\"name\"]\n",
    "            class_id = classes.index(name)\n",
    "            box = item2[\"bbox\"]\n",
    "            bb = convert_coordinate((width, height), box)\n",
    "            outfile.write(str(class_id) + \" \" + \" \".join([str(a) for a in bb]) + \"\\n\")\n",
    "        outfile.close()\n"
   ]
  },
  {
   "cell_type": "code",
   "execution_count": null,
   "metadata": {},
   "outputs": [
    {
     "data": {
      "text/markdown": [
       "<h4 id=\"convert\" class=\"doc_header\"><code>convert</code><a href=\"__main__.py#L2\" class=\"source_link\" style=\"float:right\">[source]</a></h4>\n",
       "\n",
       "> <code>convert</code>(**`json_path`**:`str`=*`None`*, **`save_path`**:`str`=*`None`*, **`classes`**:`List`\\[`str`\\]=*`None`*)\n",
       "\n",
       "Function to convert Coco json to yolo txt format\n",
       "\n",
       "Arguments: \n",
       "\n",
       "`json_path` (str, optional): Path to the coco json file. Defaults to None. \n",
       "\n",
       "`save_path` (str, optional): The folder which save txt file. Defaults to None. \n",
       "\n",
       "`classes` (List[str], optional): List name of classes. Defaults to None. "
      ],
      "text/plain": [
       "<IPython.core.display.Markdown object>"
      ]
     },
     "metadata": {},
     "output_type": "display_data"
    }
   ],
   "source": [
    "show_doc(convert)"
   ]
  },
  {
   "cell_type": "code",
   "execution_count": null,
   "metadata": {},
   "outputs": [
    {
     "name": "stdout",
     "output_type": "stream",
     "text": [
      "Converted 00_core.ipynb.\n",
      "Converted 01_voc2coco.ipynb.\n",
      "Converted 02_coco2yolo.ipynb.\n",
      "Converted index.ipynb.\n"
     ]
    }
   ],
   "source": [
    "from nbdev.export import notebook2script;\n",
    "notebook2script()\n"
   ]
  },
  {
   "cell_type": "code",
   "execution_count": null,
   "metadata": {},
   "outputs": [],
   "source": []
  }
 ],
 "metadata": {
  "kernelspec": {
   "display_name": "Python 3 (ipykernel)",
   "language": "python",
   "name": "python3"
  }
 },
 "nbformat": 4,
 "nbformat_minor": 2
}
