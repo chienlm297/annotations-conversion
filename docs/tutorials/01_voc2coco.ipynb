{
 "cells": [
  {
   "cell_type": "code",
   "execution_count": null,
   "metadata": {},
   "outputs": [],
   "source": [
    "# default_exp voc2coco"
   ]
  },
  {
   "cell_type": "markdown",
   "metadata": {},
   "source": [
    "# voc2coco\n",
    "\n",
    "> Convert PASCAL VOX xml annotation to COCO json annotation."
   ]
  },
  {
   "cell_type": "code",
   "execution_count": null,
   "metadata": {},
   "outputs": [],
   "source": [
    "#hide\n",
    "from nbdev.showdoc import *"
   ]
  },
  {
   "cell_type": "code",
   "execution_count": null,
   "metadata": {},
   "outputs": [],
   "source": [
    "#export \n",
    "import os\n",
    "import json\n",
    "import re\n",
    "import xml.etree.ElementTree as ET\n",
    "from pathlib import Path\n",
    "from typing import Dict, List\n",
    "from tqdm import tqdm"
   ]
  },
  {
   "cell_type": "code",
   "execution_count": null,
   "metadata": {},
   "outputs": [],
   "source": [
    "#export \n",
    "def get_image_info(annotation_root, img_id):\n",
    "    filename = annotation_root.findtext('filename')\n",
    "    img_name = os.path.basename(filename)\n",
    "\n",
    "    size = annotation_root.find('size')\n",
    "    width = int(size.findtext('width'))\n",
    "    height = int(size.findtext('height'))\n",
    "\n",
    "    image_info = {\n",
    "        'file_name': filename,\n",
    "        'height': height,\n",
    "        'width': width,\n",
    "        'id': img_id\n",
    "    }\n",
    "    return image_info"
   ]
  },
  {
   "cell_type": "code",
   "execution_count": null,
   "metadata": {},
   "outputs": [],
   "source": [
    "#export\n",
    "def get_coco_annotation_from_obj(obj, label2id):\n",
    "    label = obj.findtext('name')\n",
    "    assert label in label2id, f\"Error: {label} is not in label2id !\"\n",
    "    category_id = label2id[label]\n",
    "    bndbox = obj.find('bndbox')\n",
    "    xmin = int(bndbox.findtext('xmin')) - 1\n",
    "    ymin = int(bndbox.findtext('ymin')) - 1\n",
    "    xmax = int(bndbox.findtext('xmax'))\n",
    "    ymax = int(bndbox.findtext('ymax'))\n",
    "    assert xmax > xmin and ymax > ymin, f\"Box size error !: (xmin, ymin, xmax, ymax): {xmin, ymin, xmax, ymax}\"\n",
    "    o_width = xmax - xmin\n",
    "    o_height = ymax - ymin\n",
    "    ann = {\n",
    "        'area': o_width * o_height,\n",
    "        'iscrowd': 0,\n",
    "        'bbox': [xmin, ymin, o_width, o_height],\n",
    "        'category_id': category_id,\n",
    "        'ignore': 0\n",
    "    }\n",
    "    return ann"
   ]
  },
  {
   "cell_type": "code",
   "execution_count": null,
   "metadata": {},
   "outputs": [],
   "source": [
    "#export \n",
    "def convert_xmls_to_cocojson(annotation_paths: List[str],\n",
    "                            label2id: Dict[str, int],\n",
    "                            output_jsonpath: str):\n",
    "    \"\"\"Convert xml to coco json\"\"\"\n",
    "    output_json_dict = {\n",
    "        \"images\": [],\n",
    "        \"type\": \"instances\",\n",
    "        \"annotations\": [],\n",
    "        \"categories\": []\n",
    "    }\n",
    "    bnd_id = 1  \n",
    "    img_id = 1\n",
    "    print('Start converting !')\n",
    "    for a_path in tqdm(annotation_paths):\n",
    "        # Read annotation xml\n",
    "        ann_tree = ET.parse(a_path)\n",
    "        ann_root = ann_tree.getroot()\n",
    "\n",
    "        img_info = get_image_info(annotation_root=ann_root,\n",
    "                                img_id=img_id)\n",
    "        img_id = img_info['id']\n",
    "        output_json_dict['images'].append(img_info)\n",
    "\n",
    "        for obj in ann_root.findall('object'):\n",
    "            ann = get_coco_annotation_from_obj(obj=obj, label2id=label2id)\n",
    "            ann.update({'image_id': img_id, 'id': bnd_id})\n",
    "            output_json_dict['annotations'].append(ann)\n",
    "            bnd_id = bnd_id + 1\n",
    "        img_id += 1\n",
    "\n",
    "    for label, label_id in label2id.items():\n",
    "        category_info = {'supercategory': 'none', 'id': label_id, 'name': label}\n",
    "        output_json_dict['categories'].append(category_info)\n",
    "\n",
    "    with open(output_jsonpath, 'w') as f:\n",
    "        output_json = json.dumps(output_json_dict)\n",
    "        f.write(output_json)"
   ]
  },
  {
   "cell_type": "code",
   "execution_count": null,
   "metadata": {},
   "outputs": [
    {
     "data": {
      "text/markdown": [
       "<h4 id=\"convert_xmls_to_cocojson\" class=\"doc_header\"><code>convert_xmls_to_cocojson</code><a href=\"__main__.py#L2\" class=\"source_link\" style=\"float:right\">[source]</a></h4>\n",
       "\n",
       "> <code>convert_xmls_to_cocojson</code>(**`annotation_paths`**:`List`\\[`str`\\], **`label2id`**:`Dict`\\[`str`, `int`\\], **`output_jsonpath`**:`str`)\n",
       "\n",
       "Convert xml to coco json"
      ],
      "text/plain": [
       "<IPython.core.display.Markdown object>"
      ]
     },
     "metadata": {},
     "output_type": "display_data"
    }
   ],
   "source": [
    "show_doc(convert_xmls_to_cocojson)"
   ]
  }
 ],
 "metadata": {
  "kernelspec": {
   "display_name": "Python 3.8.10 64-bit ('base': conda)",
   "name": "python3"
  }
 },
 "nbformat": 4,
 "nbformat_minor": 2
}
